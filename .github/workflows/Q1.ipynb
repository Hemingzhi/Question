{
 "cells": [
  {
   "cell_type": "markdown",
   "id": "25e5c64b",
   "metadata": {},
   "source": [
    "1. Algorithm"
   ]
  },
  {
   "cell_type": "markdown",
   "id": "926277f6",
   "metadata": {},
   "source": [
    "Method 1: enumeration O(n^2) time complexity"
   ]
  },
  {
   "cell_type": "code",
   "execution_count": 38,
   "id": "005bb967",
   "metadata": {},
   "outputs": [],
   "source": [
    "def Sumof2num(num,target):\n",
    "    for i in range(len(num)):\n",
    "        for j in range(i+1,len(num)):\n",
    "            if num[i] + num[j] == target:\n",
    "                return [i+1,j+1]"
   ]
  },
  {
   "cell_type": "code",
   "execution_count": 39,
   "id": "886b4766",
   "metadata": {},
   "outputs": [
    {
     "data": {
      "text/plain": [
       "[5, 6]"
      ]
     },
     "execution_count": 39,
     "metadata": {},
     "output_type": "execute_result"
    }
   ],
   "source": [
    "num = [1,2,3,4,5,6]\n",
    "target = 11\n",
    "Sumof2num(num,target)"
   ]
  },
  {
   "cell_type": "markdown",
   "id": "d150b990",
   "metadata": {},
   "source": [
    "Method 2: <O(n^2) time complexity"
   ]
  },
  {
   "cell_type": "code",
   "execution_count": 40,
   "id": "a8f3f308",
   "metadata": {},
   "outputs": [],
   "source": [
    "def Sumof2num2(num,target):\n",
    "    hashAlgorithm = dict()\n",
    "    for index,i in enumerate(num):\n",
    "        if target - i in hashAlgorithm:\n",
    "            return [index+1, hashAlgorithm[target-i]+1]\n",
    "        hashAlgorithm[i] = index"
   ]
  },
  {
   "cell_type": "code",
   "execution_count": 41,
   "id": "ae15c45d",
   "metadata": {},
   "outputs": [
    {
     "data": {
      "text/plain": [
       "[6, 5]"
      ]
     },
     "execution_count": 41,
     "metadata": {},
     "output_type": "execute_result"
    }
   ],
   "source": [
    "num = [1,2,3,4,5,6]\n",
    "target = 11\n",
    "Sumof2num2(num,target)"
   ]
  }
 ],
 "metadata": {
  "kernelspec": {
   "display_name": "Python 3",
   "language": "python",
   "name": "python3"
  },
  "language_info": {
   "codemirror_mode": {
    "name": "ipython",
    "version": 3
   },
   "file_extension": ".py",
   "mimetype": "text/x-python",
   "name": "python",
   "nbconvert_exporter": "python",
   "pygments_lexer": "ipython3",
   "version": "3.8.8"
  }
 },
 "nbformat": 4,
 "nbformat_minor": 5
}
